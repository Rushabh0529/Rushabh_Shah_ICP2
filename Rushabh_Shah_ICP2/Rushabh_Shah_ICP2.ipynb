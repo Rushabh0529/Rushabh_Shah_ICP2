{
  "nbformat": 4,
  "nbformat_minor": 0,
  "metadata": {
    "colab": {
      "provenance": []
    },
    "kernelspec": {
      "name": "python3",
      "display_name": "Python 3"
    },
    "language_info": {
      "name": "python"
    }
  },
  "cells": [
    {
      "cell_type": "markdown",
      "source": [
        "**Explain the difference between Counter.count and self._count**.        \n",
        "\n",
        "Answer:  Counter.count is shared across all instances, while self._count is unique to each instance.                                                                                                                                                                                                                          increases a class variable for all instances and instance variable only for the specific instance."
      ],
      "metadata": {
        "id": "BA67Q00tvXOi"
      }
    },
    {
      "cell_type": "code",
      "execution_count": 3,
      "metadata": {
        "colab": {
          "base_uri": "https://localhost:8080/"
        },
        "id": "Nx3YBMPTqo3-",
        "outputId": "027f39bb-e3bf-4e38-e56e-2442732604f6"
      },
      "outputs": [
        {
          "output_type": "stream",
          "name": "stdout",
          "text": [
            "Instance count: 2, Class count: 3\n",
            "Instance count: 1, Class count: 3\n"
          ]
        }
      ],
      "source": [
        "class Counter:\n",
        "    count = 0\n",
        "\n",
        "    def __init__(self):\n",
        "        self._count = 0\n",
        "\n",
        "    def increment(self):\n",
        "        self._count += 1\n",
        "        Counter.count += 1\n",
        "\n",
        "    def get_counts(self):\n",
        "        return f\"Instance count: {self._count}, Class count: {Counter.count}\"\n",
        "\n",
        "# Create instances\n",
        "a = Counter()\n",
        "b = Counter()\n",
        "\n",
        "# Increment operations\n",
        "a.increment()  # a._count becomes 1, Counter.count becomes 1\n",
        "a.increment()  # a._count becomes 2, Counter.count becomes 2\n",
        "b.increment()  # b._count becomes 1, Counter.count becomes 3\n",
        "\n",
        "# Output results\n",
        "print(a.get_counts())\n",
        "print(b.get_counts())\n"
      ]
    },
    {
      "cell_type": "code",
      "source": [
        "def sum_all(*args):  # Use *args number of arguments\n",
        "    return sum(args)\n",
        "\n",
        "print(\"Sum of 1, 2, 3 is:\", sum_all(1, 2, 3))\n",
        "print(\"Sum of 4, 5, 6, 7 is:\", sum_all(4, 5, 6, 7))\n"
      ],
      "metadata": {
        "colab": {
          "base_uri": "https://localhost:8080/"
        },
        "id": "pYE87R46tLrj",
        "outputId": "0fcc23e0-3edf-4d67-be3e-f67aa076b55f"
      },
      "execution_count": 2,
      "outputs": [
        {
          "output_type": "stream",
          "name": "stdout",
          "text": [
            "Sum of 1, 2, 3 is: 6\n",
            "Sum of 4, 5, 6, 7 is: 22\n"
          ]
        }
      ]
    },
    {
      "cell_type": "code",
      "source": [
        "def first_word(strings):\n",
        "    return min(strings)\n",
        "\n",
        "students = ['Mary', 'Zelda', 'Jimmy', 'Jack', 'Bartholomew', 'Gertrude']\n",
        "result = first_word(students)\n",
        "print(result)  # Output: 'Bartholomew'\n"
      ],
      "metadata": {
        "colab": {
          "base_uri": "https://localhost:8080/"
        },
        "id": "6zebtDjUuUly",
        "outputId": "1891443b-2e6e-4734-8e5d-6a9e1d1d5131"
      },
      "execution_count": 4,
      "outputs": [
        {
          "output_type": "stream",
          "name": "stdout",
          "text": [
            "Bartholomew\n"
          ]
        }
      ]
    },
    {
      "cell_type": "code",
      "source": [
        "class Employee:\n",
        "    employee_count = 0\n",
        "    total_salary = 0\n",
        "\n",
        "    def __init__(self, name, family, salary, department):\n",
        "        self.name = name\n",
        "        self.family = family\n",
        "        self.salary = salary\n",
        "        self.department = department\n",
        "        Employee.employee_count += 1\n",
        "        Employee.total_salary += salary\n",
        "\n",
        "    @classmethod\n",
        "    def average_salary(cls):\n",
        "        return cls.total_salary / cls.employee_count\n",
        "\n",
        "class FulltimeEmployee(Employee):\n",
        "    pass\n",
        "\n",
        "# Create instances\n",
        "emp1 = Employee(\"Mary\", \"Zelda\", 30000, \"HR\")\n",
        "emp2 = Employee(\"Jimmy\", \"Jack\", 40000, \"data analysis\")\n",
        "ft_emp1 = FulltimeEmployee(\"Bartholomew\", \"Gertrude\", 50000, \"Software developer\")\n",
        "\n",
        "# Print the results\n",
        "print(f\"Total Employees: {Employee.employee_count}\")\n",
        "print(f\"Average Salary: ${Employee.average_salary():.2f}\")\n"
      ],
      "metadata": {
        "colab": {
          "base_uri": "https://localhost:8080/"
        },
        "id": "-YAra-Qsy8cR",
        "outputId": "61784526-e2bc-4dcf-b66a-fadd9e3c769c"
      },
      "execution_count": 7,
      "outputs": [
        {
          "output_type": "stream",
          "name": "stdout",
          "text": [
            "Total Employees: 3\n",
            "Average Salary: $40000.00\n"
          ]
        }
      ]
    }
  ]
}